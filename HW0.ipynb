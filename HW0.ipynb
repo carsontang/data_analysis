








<!DOCTYPE html>
<html lang="en">

<head>
  <meta charset="utf-8">
  <title>Jupyter Notebook Viewer</title>
  <meta name="viewport" content="width=device-width, initial-scale=1.0">
  <meta name="description" content="">
  <meta name="author" content="">
  
  <meta name="robots" content="noindex,nofollow">
  

  <!--NEW RELIC Start Perf Measurement-->
  
  <!--NREND-->

  <!-- Le styles -->
  <script type="text/javascript">
//<![CDATA[
try{if (!window.CloudFlare) {var CloudFlare=[{verbose:0,p:0,byc:0,owlid:"cf",bag2:1,mirage2:0,oracle:0,paths:{cloudflare:"/cdn-cgi/nexp/dok3v=1613a3a185/"},atok:"86b9c23b663dd9486b5464654f5e41fb",petok:"ea0395e1070f71bcd2f728abb81121f741e5baee-1453581278-1800",zone:"jupyter.org",rocket:"0",apps:{"ga_key":{"ua":"UA-52617120-5","ga_bs":"2"}},sha2test:0}];!function(a,b){a=document.createElement("script"),b=document.getElementsByTagName("script")[0],a.async=!0,a.src="//ajax.cloudflare.com/cdn-cgi/nexp/dok3v=38857570ac/cloudflare.min.js",b.parentNode.insertBefore(a,b)}()}}catch(e){};
//]]>
</script>
<link href="/static/build/styles.css" rel="stylesheet">

  <!-- Le HTML5 shim, for IE6-8 support of HTML5 elements -->
  <!--[if lt IE 9]>
    <script src="http://html5shim.googlecode.com/svn/trunk/html5.js"></script>
  <![endif]-->

  <!-- Le fav and touch icons -->
  <link rel="shortcut icon" href="/static/ico/ipynb_icon_16x16.png">
  <link rel="apple-touch-icon-precomposed" sizes="144x144"
        href="/static/ico/apple-touch-icon-144-precomposed.png">
  <link rel="apple-touch-icon-precomposed" sizes="114x114"
        href="/static/ico/apple-touch-icon-114-precomposed.png">
  <link rel="apple-touch-icon-precomposed" sizes="72x72"
        href="/static/ico/apple-touch-icon-72-precomposed.png">
  <link rel="apple-touch-icon-precomposed"
        href="/static/ico/apple-touch-icon-57-precomposed.png">
  
  

  

  
  <meta name="twitter:card" content="summary">
  <meta name="twitter:title" content="Notebook on nbviewer">
  <meta name="twitter:description" content="Check out this Jupyter notebook!">

  
  <meta name="twitter:domain" content="nbviewer.ipython.org">
  <meta name="twitter:image:src" content="http://ipython.org/ipython-doc/dev/_images/ipynb_icon_128x128.png">

  
    <link href="/static/build/notebook.css" rel="stylesheet">
  

  

  
    <script src="https://cdn.mathjax.org/mathjax/latest/MathJax.js?config=TeX-AMS_HTML" type="text/javascript">
    </script>
    <script type="text/javascript">
      init_mathjax = function() {
        if (window.MathJax) {
          // MathJax loaded
          MathJax.Hub.Config({
            TeX: {
              equationNumbers: {
                autoNumber: "AMS",
                useLabelIds: true
              }
            },
            tex2jax: {
              inlineMath: [ ['$','$'], ["\\(","\\)"] ],
              displayMath: [ ['$$','$$'], ["\\[","\\]"] ],
              processEscapes: true,
              processEnvironments: true
            },
            displayAlign: 'center',
            "HTML-CSS": {
              styles: {'.MathJax_Display': {"margin": 0}},
              linebreaks: { automatic: true }
            }
          });
          MathJax.Hub.Queue(["Typeset", MathJax.Hub]);
        }
      }
      init_mathjax();
    </script>
  

<script type="text/javascript">
/* <![CDATA[ */
var _gaq = _gaq || [];
_gaq.push(['_setAccount', 'UA-52617120-5']);
_gaq.push(['_trackPageview']);

(function() {
var ga = document.createElement('script'); ga.type = 'text/javascript'; ga.async = true;
ga.src = ('https:' == document.location.protocol ? 'https://ssl' : 'http://www') + '.google-analytics.com/ga.js';
var s = document.getElementsByTagName('script')[0]; s.parentNode.insertBefore(ga, s);
})();

(function(b){(function(a){"__CF"in b&&"DJS"in b.__CF?b.__CF.DJS.push(a):"addEventListener"in b?b.addEventListener("load",a,!1):b.attachEvent("onload",a)})(function(){"FB"in b&&"Event"in FB&&"subscribe"in FB.Event&&(FB.Event.subscribe("edge.create",function(a){_gaq.push(["_trackSocial","facebook","like",a])}),FB.Event.subscribe("edge.remove",function(a){_gaq.push(["_trackSocial","facebook","unlike",a])}),FB.Event.subscribe("message.send",function(a){_gaq.push(["_trackSocial","facebook","send",a])}));"twttr"in b&&"events"in twttr&&"bind"in twttr.events&&twttr.events.bind("tweet",function(a){if(a){var b;if(a.target&&a.target.nodeName=="IFRAME")a:{if(a=a.target.src){a=a.split("#")[0].match(/[^?=&]+=([^&]*)?/g);b=0;for(var c;c=a[b];++b)if(c.indexOf("url")===0){b=unescape(c.split("=")[1]);break a}}b=void 0}_gaq.push(["_trackSocial","twitter","tweet",b])}})})})(window);
/* ]]> */
</script>
</head>

<body>

  <!-- These are loaded at the top of the body so they are available to
       notebook cells when they are loaded below. -->
  <script src="/static/components/jquery/dist/jquery.min.js"></script>
  <script src="/static/components/requirejs/require.js"></script>
  <script src="/static/components/moment/min/moment.min.js"></script>

<!-- Navbar
================================================== -->
  <nav id="menubar" class="navbar navbar-default navbar-fixed-top" data-spy="affix">
    <div class="container">
      <div class="navbar-header">
        <button type="button" class="navbar-toggle collapsed" data-toggle="collapse" data-target=".navbar-collapse">
          <span class="sr-only">Toggle navigation</span>
          <i class="fa fa-bars"></i>
        </button>
        <a class="navbar-brand" href="/">
          <img src="/static/img/nav_logo.svg" width="159"/>
        </a>
      </div>

      <div class="collapse navbar-collapse">
        <ul class="nav navbar-nav navbar-right">
          <li>
            <a class="active" href="http://jupyter.org">JUPYTER</a>
          </li>
          <li>
    <a href="/faq" title="FAQ" >
      
        <span>FAQ</span>
      
    </a>
  </li>

          
  
    
  

  

  
    <li>
    <a href="https://github.com/cs109/content/blob/master/HW0.ipynb" title="View on GitHub" >
      <span class="fa fa-github fa-2x menu-icon"></span>
      <span class="menu-text">View on GitHub</span>
    </a>
  </li>
  

  <li>
    <a href="https://raw.githubusercontent.com/cs109/content/master/HW0.ipynb" title="Download Notebook" download>
      <span class="fa fa-download fa-2x menu-icon"></span>
      <span class="menu-text">Download Notebook</span>
    </a>
  </li>

        </ul>
      </div><!-- /.navbar-collapse -->
      
      
    </div>
  </nav>

  <div class="container container-main">
    
  
  <ol class="breadcrumb">
    
      <li>
        <a href="/github/cs109/content/tree/master">content</a>
      </li>
    
      <li>
        <a href="/github/cs109/content/tree/master/HW0.ipynb">HW0.ipynb</a>
      </li>
    
  </ol>
  
  <div id="notebook">
    <div id="notebook-container">
      
<div class="cell border-box-sizing text_cell rendered">
<div class="prompt input_prompt">
</div>
<div class="inner_cell">
<div class="text_cell_render border-box-sizing rendered_html">
<h1 id="Homework-0">Homework 0<a class="anchor-link" href="#Homework-0">&#182;</a></h1><h3 id="Due-Tuesday,-September-10-(but-no-submission-is-required)">Due Tuesday, September 10 (but no submission is required)<a class="anchor-link" href="#Due-Tuesday,-September-10-(but-no-submission-is-required)">&#182;</a></h3><hr>
<p>Welcome to CS109 / STAT121 / AC209 / E-109 (<a href="http://cs109.org/">http://cs109.org/</a>).  In this class, we will be using a variety of tools that will require some initial configuration. To ensure everything goes smoothly moving forward, we will setup the majority of those tools in this homework. While some of this will likely be dull, doing it now will enable us to do more exciting work in the weeks that follow without getting bogged down in further software configuration. This homework will not be graded, however it is essential that you complete it timely since it will enable us to set up your accounts. You do not have to hand anything in, with the exception of filling out the online survey.</p>
<h2 id="Class-Survey,-Piazza,-and-Introduction">Class Survey, Piazza, and Introduction<a class="anchor-link" href="#Class-Survey,-Piazza,-and-Introduction">&#182;</a></h2><p><strong>Class Survey</strong></p>
<p>Please complete the mandatory course survey located <a href="https://docs.google.com/spreadsheet/viewform?formkey=dFg1ZFJwLWJ6ZWhWR1JJb0tES3lGMEE6MA#gid=0">here</a>. It should only take a few moments of your time. Once you fill in the survey we will sign you up to the course forum on Piazza and the dropbox system that you will use to hand in the homework. It is imperative that you fill out the survey on time as we use the provided information to sign you up for these services.</p>
<p><strong>Piazza</strong></p>
<p>Go to <a href="https://piazza.com/harvard/fall2013/cs109/home">Piazza</a> and sign up for the class using your Harvard e-mail address.</p>
<p>You will use Piazza as a forum for discussion, to find team members, to arrange appointments, and to ask questions. Piazza should be your primary form of communication with the staff. Use the staff e-mail (<a class="__cf_email__" href="/cdn-cgi/l/email-protection" data-cfemail="f08384919696b09383c1c0c9de9f8297">[email&#160;protected]</a><script data-cfhash='f9e31' type="text/javascript">
/* <![CDATA[ */!function(){try{var t="currentScript"in document?document.currentScript:function(){for(var t=document.getElementsByTagName("script"),e=t.length;e--;)if(t[e].getAttribute("data-cfhash"))return t[e]}();if(t&&t.previousSibling){var e,r,n,i,c=t.previousSibling,a=c.getAttribute("data-cfemail");if(a){for(e="",r=parseInt(a.substr(0,2),16),n=2;a.length-n;n+=2)i=parseInt(a.substr(n,2),16)^r,e+=String.fromCharCode(i);e=document.createTextNode(e),c.parentNode.replaceChild(e,c)}t.parentNode.removeChild(t);}}catch(u){}}()/* ]]> */</script>) only for individual requests, e.g., to excuse yourself from a mandatory guest lecture. All readings, homeworks, and project descriptions will be announced on Piazza first.</p>
<p><strong>Introduction</strong></p>
<p>Once you are signed up to the Piazza course forum, introduce yourself to your classmates and course staff with a follow-up post in the introduction thread. Include your name/nickname, your affiliation, why you are taking this course, and tell us something interesting about yourself (e.g., an industry job, an unusual hobby, past travels, or a cool project you did, etc.). Also tell us whether you have experience with data science.</p>
<h2 id="Programming-expectations">Programming expectations<a class="anchor-link" href="#Programming-expectations">&#182;</a></h2><p>All the assignments and labs for this class will use Python and, for the most part, the browser-based IPython notebook format you are currently viewing. Knowledge of Python is not a prerequisite for this course, <strong>provided you are comfortable learning on your own as needed</strong>. While we have strived to make the programming component of this course straightforward, we will not devote much time to teaching prorgramming or Python syntax. Basically, you should feel comfortable with:</p>
<ul>
<li>How to look up Python syntax on Google and StackOverflow.</li>
<li>Basic programming concepts like functions, loops, arrays, dictionaries, strings, and if statements.</li>
<li>How to learn new libraries by reading documentation.</li>
<li>Asking questions on StackOverflow or Piazza.</li>
</ul>
<p>There are many online tutorials to introduce you to scientific python programming. <a href="https://github.com/jrjohansson/scientific-python-lectures">Here is one</a> that is very nice. Lectures 1-4 are most relevant to this class.</p>
<h2 id="Getting-Python">Getting Python<a class="anchor-link" href="#Getting-Python">&#182;</a></h2><p>You will be using Python throughout the course, including many popular 3rd party Python libraries for scientific computing. <a href="http://continuum.io/downloads">Anaconda</a> is an easy-to-install bundle of Python and most of these libraries. We recommend that you use Anaconda for this course.</p>
<p>Please visit <a href="https://github.com/cs109/content/wiki/Installing-Python">this page</a> and follow the instructions to set up Python</p>
<hline>

<h2 id="Hello,-Python">Hello, Python<a class="anchor-link" href="#Hello,-Python">&#182;</a></h2><p>The IPython notebook is an application to build interactive computational notebooks. You'll be using them to complete labs and homework. Once you've set up Python, please <a href=https://raw.github.com/cs109/content/master/HW0.ipynb download="HW0.ipynb">download this page</a>, and open it with IPython by typing</p>

<pre><code>ipython notebook &lt;name_of_downloaded_file&gt;</code></pre>
<p>For the rest of the assignment, use your local copy of this page, running on IPython.</p>
<p>Notebooks are composed of many "cells", which can contain text (like this one), or code (like the one below). Double click on the cell below, and evaluate it by clicking the "play" button above, for by hitting shift + enter</p>

</div>
</div>
</div>
<div class="cell border-box-sizing code_cell rendered">
<div class="input">
<div class="prompt input_prompt">In&nbsp;[1]:</div>
<div class="inner_cell">
    <div class="input_area">
<div class=" highlight hl-ipython3"><pre><span class="n">x</span> <span class="o">=</span> <span class="p">[</span><span class="mi">10</span><span class="p">,</span> <span class="mi">20</span><span class="p">,</span> <span class="mi">30</span><span class="p">,</span> <span class="mi">40</span><span class="p">,</span> <span class="mi">50</span><span class="p">]</span>
<span class="k">for</span> <span class="n">item</span> <span class="ow">in</span> <span class="n">x</span><span class="p">:</span>
    <span class="nb">print</span> <span class="s2">&quot;Item is &quot;</span><span class="p">,</span> <span class="n">item</span>
</pre></div>

</div>
</div>
</div>

</div>
<div class="cell border-box-sizing text_cell rendered">
<div class="prompt input_prompt">
</div>
<div class="inner_cell">
<div class="text_cell_render border-box-sizing rendered_html">
<h2 id="Python-Libraries">Python Libraries<a class="anchor-link" href="#Python-Libraries">&#182;</a></h2><p>We will be using a several different libraries throughout this course. If you've successfully completed the <a href="https://github.com/cs109/content/wiki/Installing-Python">installation instructions</a>, all of the following statements should run.</p>

</div>
</div>
</div>
<div class="cell border-box-sizing code_cell rendered">
<div class="input">
<div class="prompt input_prompt">In&nbsp;[2]:</div>
<div class="inner_cell">
    <div class="input_area">
<div class=" highlight hl-ipython3"><pre><span class="c1">#IPython is what you are using now to run the notebook</span>
<span class="kn">import</span> <span class="nn">IPython</span>
<span class="nb">print</span> <span class="s2">&quot;IPython version:      </span><span class="si">%6.6s</span><span class="s2"> (need at least 1.0)&quot;</span> <span class="o">%</span> <span class="n">IPython</span><span class="o">.</span><span class="n">__version__</span>

<span class="c1"># Numpy is a library for working with Arrays</span>
<span class="kn">import</span> <span class="nn">numpy</span> <span class="k">as</span> <span class="nn">np</span>
<span class="nb">print</span> <span class="s2">&quot;Numpy version:        </span><span class="si">%6.6s</span><span class="s2"> (need at least 1.7.1)&quot;</span> <span class="o">%</span> <span class="n">np</span><span class="o">.</span><span class="n">__version__</span>

<span class="c1"># SciPy implements many different numerical algorithms</span>
<span class="kn">import</span> <span class="nn">scipy</span> <span class="k">as</span> <span class="nn">sp</span>
<span class="nb">print</span> <span class="s2">&quot;SciPy version:        </span><span class="si">%6.6s</span><span class="s2"> (need at least 0.12.0)&quot;</span> <span class="o">%</span> <span class="n">sp</span><span class="o">.</span><span class="n">__version__</span>

<span class="c1"># Pandas makes working with data tables easier</span>
<span class="kn">import</span> <span class="nn">pandas</span> <span class="k">as</span> <span class="nn">pd</span>
<span class="nb">print</span> <span class="s2">&quot;Pandas version:       </span><span class="si">%6.6s</span><span class="s2"> (need at least 0.11.0)&quot;</span> <span class="o">%</span> <span class="n">pd</span><span class="o">.</span><span class="n">__version__</span>

<span class="c1"># Module for plotting</span>
<span class="kn">import</span> <span class="nn">matplotlib</span>
<span class="nb">print</span> <span class="s2">&quot;Mapltolib version:    </span><span class="si">%6.6s</span><span class="s2"> (need at least 1.2.1)&quot;</span> <span class="o">%</span> <span class="n">matplotlib</span><span class="o">.</span><span class="n">__version__</span>

<span class="c1"># SciKit Learn implements several Machine Learning algorithms</span>
<span class="kn">import</span> <span class="nn">sklearn</span>
<span class="nb">print</span> <span class="s2">&quot;Scikit-Learn version: </span><span class="si">%6.6s</span><span class="s2"> (need at least 0.13.1)&quot;</span> <span class="o">%</span> <span class="n">sklearn</span><span class="o">.</span><span class="n">__version__</span>

<span class="c1"># Requests is a library for getting data from the Web</span>
<span class="kn">import</span> <span class="nn">requests</span>
<span class="nb">print</span> <span class="s2">&quot;requests version:     </span><span class="si">%6.6s</span><span class="s2"> (need at least 1.2.3)&quot;</span> <span class="o">%</span> <span class="n">requests</span><span class="o">.</span><span class="n">__version__</span>

<span class="c1"># Networkx is a library for working with networks</span>
<span class="kn">import</span> <span class="nn">networkx</span> <span class="k">as</span> <span class="nn">nx</span>
<span class="nb">print</span> <span class="s2">&quot;NetworkX version:     </span><span class="si">%6.6s</span><span class="s2"> (need at least 1.7)&quot;</span> <span class="o">%</span> <span class="n">nx</span><span class="o">.</span><span class="n">__version__</span>

<span class="c1">#BeautifulSoup is a library to parse HTML and XML documents</span>
<span class="kn">import</span> <span class="nn">BeautifulSoup</span>
<span class="nb">print</span> <span class="s2">&quot;BeautifulSoup version:</span><span class="si">%6.6s</span><span class="s2"> (need at least 3.2)&quot;</span> <span class="o">%</span> <span class="n">BeautifulSoup</span><span class="o">.</span><span class="n">__version__</span>

<span class="c1">#MrJob is a library to run map reduce jobs on Amazon&#39;s computers</span>
<span class="kn">import</span> <span class="nn">mrjob</span>
<span class="nb">print</span> <span class="s2">&quot;Mr Job version:       </span><span class="si">%6.6s</span><span class="s2"> (need at least 0.4)&quot;</span> <span class="o">%</span> <span class="n">mrjob</span><span class="o">.</span><span class="n">__version__</span>

<span class="c1">#Pattern has lots of tools for working with data from the internet</span>
<span class="kn">import</span> <span class="nn">pattern</span>
<span class="nb">print</span> <span class="s2">&quot;Pattern version:      </span><span class="si">%6.6s</span><span class="s2"> (need at least 2.6)&quot;</span> <span class="o">%</span> <span class="n">pattern</span><span class="o">.</span><span class="n">__version__</span>
</pre></div>

</div>
</div>
</div>

</div>
<div class="cell border-box-sizing text_cell rendered">
<div class="prompt input_prompt">
</div>
<div class="inner_cell">
<div class="text_cell_render border-box-sizing rendered_html">
<p>If any of these libraries are missing or out of date, you will need to <a href="https://github.com/cs109/content/wiki/Installing-Python#installing-additional-libraries">install them</a> and restart IPython</p>

</div>
</div>
</div>
<div class="cell border-box-sizing text_cell rendered">
<div class="prompt input_prompt">
</div>
<div class="inner_cell">
<div class="text_cell_render border-box-sizing rendered_html">
<h2 id="Hello-matplotlib">Hello matplotlib<a class="anchor-link" href="#Hello-matplotlib">&#182;</a></h2>
</div>
</div>
</div>
<div class="cell border-box-sizing text_cell rendered">
<div class="prompt input_prompt">
</div>
<div class="inner_cell">
<div class="text_cell_render border-box-sizing rendered_html">
<p>The notebook integrates nicely with Matplotlib, the primary plotting package for python. This should embed a figure of a sine wave:</p>

</div>
</div>
</div>
<div class="cell border-box-sizing code_cell rendered">
<div class="input">
<div class="prompt input_prompt">In&nbsp;[3]:</div>
<div class="inner_cell">
    <div class="input_area">
<div class=" highlight hl-ipython3"><pre><span class="c1">#this line prepares IPython for working with matplotlib</span>
<span class="o">%</span><span class="k">matplotlib</span> inline  

<span class="c1"># this actually imports matplotlib</span>
<span class="kn">import</span> <span class="nn">matplotlib.pyplot</span> <span class="k">as</span> <span class="nn">plt</span>  

<span class="n">x</span> <span class="o">=</span> <span class="n">np</span><span class="o">.</span><span class="n">linspace</span><span class="p">(</span><span class="mi">0</span><span class="p">,</span> <span class="mi">10</span><span class="p">,</span> <span class="mi">30</span><span class="p">)</span>  <span class="c1">#array of 30 points from 0 to 10</span>
<span class="n">y</span> <span class="o">=</span> <span class="n">np</span><span class="o">.</span><span class="n">sin</span><span class="p">(</span><span class="n">x</span><span class="p">)</span>
<span class="n">z</span> <span class="o">=</span> <span class="n">y</span> <span class="o">+</span> <span class="n">np</span><span class="o">.</span><span class="n">random</span><span class="o">.</span><span class="n">normal</span><span class="p">(</span><span class="n">size</span><span class="o">=</span><span class="mi">30</span><span class="p">)</span> <span class="o">*</span> <span class="o">.</span><span class="mi">2</span>
<span class="n">plt</span><span class="o">.</span><span class="n">plot</span><span class="p">(</span><span class="n">x</span><span class="p">,</span> <span class="n">y</span><span class="p">,</span> <span class="s1">&#39;ro-&#39;</span><span class="p">,</span> <span class="n">label</span><span class="o">=</span><span class="s1">&#39;A sine wave&#39;</span><span class="p">)</span>
<span class="n">plt</span><span class="o">.</span><span class="n">plot</span><span class="p">(</span><span class="n">x</span><span class="p">,</span> <span class="n">z</span><span class="p">,</span> <span class="s1">&#39;b-&#39;</span><span class="p">,</span> <span class="n">label</span><span class="o">=</span><span class="s1">&#39;Noisy sine&#39;</span><span class="p">)</span>
<span class="n">plt</span><span class="o">.</span><span class="n">legend</span><span class="p">(</span><span class="n">loc</span> <span class="o">=</span> <span class="s1">&#39;lower right&#39;</span><span class="p">)</span>
<span class="n">plt</span><span class="o">.</span><span class="n">xlabel</span><span class="p">(</span><span class="s2">&quot;X axis&quot;</span><span class="p">)</span>
<span class="n">plt</span><span class="o">.</span><span class="n">ylabel</span><span class="p">(</span><span class="s2">&quot;Y axis&quot;</span><span class="p">)</span>           
</pre></div>

</div>
</div>
</div>

</div>
<div class="cell border-box-sizing text_cell rendered">
<div class="prompt input_prompt">
</div>
<div class="inner_cell">
<div class="text_cell_render border-box-sizing rendered_html">
<p>If that last cell complained about the <code>%matplotlib</code> line, you need to update IPython to v1.0, and restart the notebook. See the <a href="https://github.com/cs109/content/wiki/Installing-Python">installation page</a></p>

</div>
</div>
</div>
<div class="cell border-box-sizing text_cell rendered">
<div class="prompt input_prompt">
</div>
<div class="inner_cell">
<div class="text_cell_render border-box-sizing rendered_html">
<h2 id="Hello-Numpy">Hello Numpy<a class="anchor-link" href="#Hello-Numpy">&#182;</a></h2><p>The Numpy array processing library is the basis of nearly all numerical computing in Python. Here's a 30 second crash course. For more details, consult Chapter 4 of Python for Data Analysis, or the <a href="http://docs.scipy.org/doc/numpy-dev/user/index.html">Numpy User's Guide</a></p>

</div>
</div>
</div>
<div class="cell border-box-sizing code_cell rendered">
<div class="input">
<div class="prompt input_prompt">In&nbsp;[4]:</div>
<div class="inner_cell">
    <div class="input_area">
<div class=" highlight hl-ipython3"><pre><span class="nb">print</span> <span class="s2">&quot;Make a 3 row x 4 column array of random numbers&quot;</span>
<span class="n">x</span> <span class="o">=</span> <span class="n">np</span><span class="o">.</span><span class="n">random</span><span class="o">.</span><span class="n">random</span><span class="p">((</span><span class="mi">3</span><span class="p">,</span> <span class="mi">4</span><span class="p">))</span>
<span class="nb">print</span> <span class="n">x</span>
<span class="nb">print</span>

<span class="nb">print</span> <span class="s2">&quot;Add 1 to every element&quot;</span>
<span class="n">x</span> <span class="o">=</span> <span class="n">x</span> <span class="o">+</span> <span class="mi">1</span>
<span class="nb">print</span> <span class="n">x</span>
<span class="nb">print</span>

<span class="nb">print</span> <span class="s2">&quot;Get the element at row 1, column 2&quot;</span>
<span class="nb">print</span> <span class="n">x</span><span class="p">[</span><span class="mi">1</span><span class="p">,</span> <span class="mi">2</span><span class="p">]</span>
<span class="nb">print</span>

<span class="c1"># The colon syntax is called &quot;slicing&quot; the array. </span>
<span class="nb">print</span> <span class="s2">&quot;Get the first row&quot;</span>
<span class="nb">print</span> <span class="n">x</span><span class="p">[</span><span class="mi">0</span><span class="p">,</span> <span class="p">:]</span>
<span class="nb">print</span>

<span class="nb">print</span> <span class="s2">&quot;Get every 2nd column of the first row&quot;</span>
<span class="nb">print</span> <span class="n">x</span><span class="p">[</span><span class="mi">0</span><span class="p">,</span> <span class="p">::</span><span class="mi">2</span><span class="p">]</span>
<span class="nb">print</span>
</pre></div>

</div>
</div>
</div>

</div>
<div class="cell border-box-sizing text_cell rendered">
<div class="prompt input_prompt">
</div>
<div class="inner_cell">
<div class="text_cell_render border-box-sizing rendered_html">
<p>Print the maximum, minimum, and mean of the array. This does <strong>not</strong> require writing a loop. In the code cell below, type <code>x.m&lt;TAB&gt;</code>, to find built-in operations for common array statistics like this</p>

</div>
</div>
</div>
<div class="cell border-box-sizing code_cell rendered">
<div class="input">
<div class="prompt input_prompt">In&nbsp;[5]:</div>
<div class="inner_cell">
    <div class="input_area">
<div class=" highlight hl-ipython3"><pre><span class="c1">#your code here</span>
</pre></div>

</div>
</div>
</div>

</div>
<div class="cell border-box-sizing text_cell rendered">
<div class="prompt input_prompt">
</div>
<div class="inner_cell">
<div class="text_cell_render border-box-sizing rendered_html">
<p>Call the <code>x.max</code> function again, but use the <code>axis</code> keyword to print the maximum of each row in x.</p>

</div>
</div>
</div>
<div class="cell border-box-sizing code_cell rendered">
<div class="input">
<div class="prompt input_prompt">In&nbsp;[6]:</div>
<div class="inner_cell">
    <div class="input_area">
<div class=" highlight hl-ipython3"><pre><span class="c1">#your code here</span>
</pre></div>

</div>
</div>
</div>

</div>
<div class="cell border-box-sizing text_cell rendered">
<div class="prompt input_prompt">
</div>
<div class="inner_cell">
<div class="text_cell_render border-box-sizing rendered_html">
<p>Here's a way to quickly simulate 500 coin "fair" coin tosses (where the probabily of getting Heads is 50%, or 0.5)</p>

</div>
</div>
</div>
<div class="cell border-box-sizing code_cell rendered">
<div class="input">
<div class="prompt input_prompt">In&nbsp;[7]:</div>
<div class="inner_cell">
    <div class="input_area">
<div class=" highlight hl-ipython3"><pre><span class="n">x</span> <span class="o">=</span> <span class="n">np</span><span class="o">.</span><span class="n">random</span><span class="o">.</span><span class="n">binomial</span><span class="p">(</span><span class="mi">500</span><span class="p">,</span> <span class="o">.</span><span class="mi">5</span><span class="p">)</span>
<span class="nb">print</span> <span class="s2">&quot;number of heads:&quot;</span><span class="p">,</span> <span class="n">x</span>
</pre></div>

</div>
</div>
</div>

</div>
<div class="cell border-box-sizing text_cell rendered">
<div class="prompt input_prompt">
</div>
<div class="inner_cell">
<div class="text_cell_render border-box-sizing rendered_html">
<p>Repeat this simulation 500 times, and use the <a href="http://matplotlib.org/api/pyplot_api.html#matplotlib.pyplot.hist">plt.hist() function</a> to plot a histogram of the number of Heads (1s) in each simulation</p>

</div>
</div>
</div>
<div class="cell border-box-sizing code_cell rendered">
<div class="input">
<div class="prompt input_prompt">In&nbsp;[8]:</div>
<div class="inner_cell">
    <div class="input_area">
<div class=" highlight hl-ipython3"><pre><span class="c1">#your code here</span>
</pre></div>

</div>
</div>
</div>

</div>
<div class="cell border-box-sizing text_cell rendered">
<div class="prompt input_prompt">
</div>
<div class="inner_cell">
<div class="text_cell_render border-box-sizing rendered_html">
<h2 id="The-Monty-Hall-Problem">The Monty Hall Problem<a class="anchor-link" href="#The-Monty-Hall-Problem">&#182;</a></h2><p>Here's a fun and perhaps surprising statistical riddle, and a good way to get some practice writing python functions</p>
<p>In a gameshow, contestants try to guess which of 3 closed doors contain a cash prize (goats are behind the other two doors). Of course, the odds of choosing the correct door are 1 in 3. As a twist, the host of the show occasionally opens a door after a contestant makes his or her choice. This door is always one of the two the contestant did not pick, and is also always one of the goat doors (note that it is always possible to do this, since there are two goat doors). At this point, the contestant has the option of keeping his or her original choice, or swtiching to the other unopened door. The question is: is there any benefit to switching doors? The answer surprises many people who haven't heard the question before.</p>
<p>We can answer the problem by running simulations in Python. We'll do it in several parts.</p>
<p>First, write a function called <code>simulate_prizedoor</code>. This function will simulate the location of the prize in many games -- see the detailed specification below:</p>

</div>
</div>
</div>
<div class="cell border-box-sizing code_cell rendered">
<div class="input">
<div class="prompt input_prompt">In&nbsp;[9]:</div>
<div class="inner_cell">
    <div class="input_area">
<div class=" highlight hl-ipython3"><pre><span class="sd">&quot;&quot;&quot;</span>
<span class="sd">Function</span>
<span class="sd">--------</span>
<span class="sd">simulate_prizedoor</span>

<span class="sd">Generate a random array of 0s, 1s, and 2s, representing</span>
<span class="sd">hiding a prize between door 0, door 1, and door 2</span>

<span class="sd">Parameters</span>
<span class="sd">----------</span>
<span class="sd">nsim : int</span>
<span class="sd">    The number of simulations to run</span>

<span class="sd">Returns</span>
<span class="sd">-------</span>
<span class="sd">sims : array</span>
<span class="sd">    Random array of 0s, 1s, and 2s</span>

<span class="sd">Example</span>
<span class="sd">-------</span>
<span class="sd">&gt;&gt;&gt; print simulate_prizedoor(3)</span>
<span class="sd">array([0, 0, 2])</span>
<span class="sd">&quot;&quot;&quot;</span>
<span class="k">def</span> <span class="nf">simulate_prizedoor</span><span class="p">(</span><span class="n">nsim</span><span class="p">):</span>
    <span class="c1">#compute here</span>
    <span class="k">return</span> <span class="n">answer</span>
<span class="c1">#your code here</span>
</pre></div>

</div>
</div>
</div>

</div>
<div class="cell border-box-sizing text_cell rendered">
<div class="prompt input_prompt">
</div>
<div class="inner_cell">
<div class="text_cell_render border-box-sizing rendered_html">
<p>Next, write a function that simulates the contestant's guesses for <code>nsim</code> simulations. Call this function <code>simulate_guess</code>. The specs:</p>

</div>
</div>
</div>
<div class="cell border-box-sizing code_cell rendered">
<div class="input">
<div class="prompt input_prompt">In&nbsp;[10]:</div>
<div class="inner_cell">
    <div class="input_area">
<div class=" highlight hl-ipython3"><pre><span class="sd">&quot;&quot;&quot;</span>
<span class="sd">Function</span>
<span class="sd">--------</span>
<span class="sd">simulate_guess</span>

<span class="sd">Return any strategy for guessing which door a prize is behind. This</span>
<span class="sd">could be a random strategy, one that always guesses 2, whatever.</span>

<span class="sd">Parameters</span>
<span class="sd">----------</span>
<span class="sd">nsim : int</span>
<span class="sd">    The number of simulations to generate guesses for</span>

<span class="sd">Returns</span>
<span class="sd">-------</span>
<span class="sd">guesses : array</span>
<span class="sd">    An array of guesses. Each guess is a 0, 1, or 2</span>

<span class="sd">Example</span>
<span class="sd">-------</span>
<span class="sd">&gt;&gt;&gt; print simulate_guess(5)</span>
<span class="sd">array([0, 0, 0, 0, 0])</span>
<span class="sd">&quot;&quot;&quot;</span>
<span class="c1">#your code here</span>
</pre></div>

</div>
</div>
</div>

</div>
<div class="cell border-box-sizing text_cell rendered">
<div class="prompt input_prompt">
</div>
<div class="inner_cell">
<div class="text_cell_render border-box-sizing rendered_html">
<p>Next, write a function, <code>goat_door</code>, to simulate randomly revealing one of the goat doors that a contestant didn't pick.</p>

</div>
</div>
</div>
<div class="cell border-box-sizing code_cell rendered">
<div class="input">
<div class="prompt input_prompt">In&nbsp;[11]:</div>
<div class="inner_cell">
    <div class="input_area">
<div class=" highlight hl-ipython3"><pre><span class="sd">&quot;&quot;&quot;</span>
<span class="sd">Function</span>
<span class="sd">--------</span>
<span class="sd">goat_door</span>

<span class="sd">Simulate the opening of a &quot;goat door&quot; that doesn&#39;t contain the prize,</span>
<span class="sd">and is different from the contestants guess</span>

<span class="sd">Parameters</span>
<span class="sd">----------</span>
<span class="sd">prizedoors : array</span>
<span class="sd">    The door that the prize is behind in each simulation</span>
<span class="sd">guesses : array</span>
<span class="sd">    THe door that the contestant guessed in each simulation</span>

<span class="sd">Returns</span>
<span class="sd">-------</span>
<span class="sd">goats : array</span>
<span class="sd">    The goat door that is opened for each simulation. Each item is 0, 1, or 2, and is different</span>
<span class="sd">    from both prizedoors and guesses</span>

<span class="sd">Examples</span>
<span class="sd">--------</span>
<span class="sd">&gt;&gt;&gt; print goat_door(np.array([0, 1, 2]), np.array([1, 1, 1]))</span>
<span class="sd">&gt;&gt;&gt; array([2, 2, 0])</span>
<span class="sd">&quot;&quot;&quot;</span>
<span class="c1">#your code here</span>
</pre></div>

</div>
</div>
</div>

</div>
<div class="cell border-box-sizing text_cell rendered">
<div class="prompt input_prompt">
</div>
<div class="inner_cell">
<div class="text_cell_render border-box-sizing rendered_html">
<p>Write a function, <code>switch_guess</code>, that represents the strategy of always switching a guess after the goat door is opened.</p>

</div>
</div>
</div>
<div class="cell border-box-sizing code_cell rendered">
<div class="input">
<div class="prompt input_prompt">In&nbsp;[12]:</div>
<div class="inner_cell">
    <div class="input_area">
<div class=" highlight hl-ipython3"><pre><span class="sd">&quot;&quot;&quot;</span>
<span class="sd">Function</span>
<span class="sd">--------</span>
<span class="sd">switch_guess</span>

<span class="sd">The strategy that always switches a guess after the goat door is opened</span>

<span class="sd">Parameters</span>
<span class="sd">----------</span>
<span class="sd">guesses : array</span>
<span class="sd">     Array of original guesses, for each simulation</span>
<span class="sd">goatdoors : array</span>
<span class="sd">     Array of revealed goat doors for each simulation</span>

<span class="sd">Returns</span>
<span class="sd">-------</span>
<span class="sd">The new door after switching. Should be different from both guesses and goatdoors</span>

<span class="sd">Examples</span>
<span class="sd">--------</span>
<span class="sd">&gt;&gt;&gt; print switch_guess(np.array([0, 1, 2]), np.array([1, 2, 1]))</span>
<span class="sd">&gt;&gt;&gt; array([2, 0, 0])</span>
<span class="sd">&quot;&quot;&quot;</span>
<span class="c1">#your code here</span>
</pre></div>

</div>
</div>
</div>

</div>
<div class="cell border-box-sizing text_cell rendered">
<div class="prompt input_prompt">
</div>
<div class="inner_cell">
<div class="text_cell_render border-box-sizing rendered_html">
<p>Last function: write a <code>win_percentage</code> function that takes an array of <code>guesses</code> and <code>prizedoors</code>, and returns the percent of correct guesses</p>

</div>
</div>
</div>
<div class="cell border-box-sizing code_cell rendered">
<div class="input">
<div class="prompt input_prompt">In&nbsp;[13]:</div>
<div class="inner_cell">
    <div class="input_area">
<div class=" highlight hl-ipython3"><pre><span class="sd">&quot;&quot;&quot;</span>
<span class="sd">Function</span>
<span class="sd">--------</span>
<span class="sd">win_percentage</span>

<span class="sd">Calculate the percent of times that a simulation of guesses is correct</span>

<span class="sd">Parameters</span>
<span class="sd">-----------</span>
<span class="sd">guesses : array</span>
<span class="sd">    Guesses for each simulation</span>
<span class="sd">prizedoors : array</span>
<span class="sd">    Location of prize for each simulation</span>

<span class="sd">Returns</span>
<span class="sd">--------</span>
<span class="sd">percentage : number between 0 and 100</span>
<span class="sd">    The win percentage</span>

<span class="sd">Examples</span>
<span class="sd">---------</span>
<span class="sd">&gt;&gt;&gt; print win_percentage(np.array([0, 1, 2]), np.array([0, 0, 0]))</span>
<span class="sd">33.333</span>
<span class="sd">&quot;&quot;&quot;</span>
<span class="c1">#your code here</span>
</pre></div>

</div>
</div>
</div>

</div>
<div class="cell border-box-sizing text_cell rendered">
<div class="prompt input_prompt">
</div>
<div class="inner_cell">
<div class="text_cell_render border-box-sizing rendered_html">
<p>Now, put it together. Simulate 10000 games where contestant keeps his original guess, and 10000 games where the contestant switches his door after a  goat door is revealed. Compute the percentage of time the contestant wins under either strategy. Is one strategy better than the other?</p>

</div>
</div>
</div>
<div class="cell border-box-sizing code_cell rendered">
<div class="input">
<div class="prompt input_prompt">In&nbsp;[14]:</div>
<div class="inner_cell">
    <div class="input_area">
<div class=" highlight hl-ipython3"><pre><span class="c1">#your code here</span>
</pre></div>

</div>
</div>
</div>

</div>
<div class="cell border-box-sizing text_cell rendered">
<div class="prompt input_prompt">
</div>
<div class="inner_cell">
<div class="text_cell_render border-box-sizing rendered_html">
<p>Many people find this answer counter-intuitive (famously, PhD mathematicians have incorrectly claimed the result must be wrong. Clearly, none of them knew Python).</p>
<p>One of the best ways to build intuition about why opening a Goat door affects the odds is to re-run the experiment with 100 doors and one prize. If the game show host opens 98 goat doors after you make your initial selection, would you want to keep your first pick or switch? Can you generalize your simulation code to handle the case of <code>n</code> doors?</p>

</div>
</div>
</div>
    </div>
  </div>

  </div>


  
    <footer class="footer hidden-print">
      <div class="container">
        <div class="col-md-4">
          <p>
            This web site does not host notebooks, it only renders notebooks
            available on other websites.
          </p>
        </div>

        <div class="col-md-4">
          <p>
            Delivered by <a href="http://www.fastly.com/">Fastly</a>,
            Rendered by <a href="https://developer.rackspace.com/?nbviewer=awesome">Rackspace</a>
          </p>
          <p>
            nbviewer GitHub <a href="https://github.com/jupyter/nbviewer">repository</a>.
          </p>
        </div>

        <div class="col-md-4">
          
  
            
              <p>
                nbviewer version:
                <a href="https://github.com/jupyter/nbviewer/commit/b280baed69d99f104c8d5bfd8d9ad0f9b24c85e5">
                  b280bae
                </a>
              </p>
            
          
  
  <p>
    notebook version: <a href="https://github.com/jupyter/notebook/releases/tag/4.1.0">
      4.1.0
    </a>
  </p>
  <p>
    nbconvert version: <a href="https://github.com/jupyter/nbconvert/releases/tag/4.1.0">
      4.1.0
    </a>
  </p>
  

          
  
  
  <p>
    Rendered
    <span class='date' data-date='Sat, 23 Jan 2016 20:13:42 UTC' title='Sat, 23 Jan 2016 20:13:42 UTC'>(Sat, 23 Jan 2016 20:13:42 UTC)</span>
  </p>
  

        </div>
      </div>
    </footer>
  

  <script src="/static/components/bootstrap/js/bootstrap.min.js"></script>
  <script src="/static/components/headroom.js/dist/headroom.min.js"></script>
  <script src="/static/components/headroom.js/dist/jQuery.headroom.min.js"></script>

  
  
  <script>
    $(function(){ $("#menubar").headroom({
      tolerance: 5,
      offset: 205,
      classes: {
        initial: "animated",
        pinned: "slideInDown",
        unpinned: "slideOutUp"
      }
    })});
  </script>


  <script>
    (function(i,s,o,g,r,a,m){i['GoogleAnalyticsObject']=r;i[r]=i[r]||function(){
      (i[r].q=i[r].q||[]).push(arguments)},i[r].l=1*new Date();a=s.createElement(o),
      m=s.getElementsByTagName(o)[0];a.async=1;a.src=g;m.parentNode.insertBefore(a,m)
    })(window,document,'script','//www.google-analytics.com/analytics.js','ga');
    ga('create', 'UA-38683231-2', 'auto');
    ga('send', 'pageview');
  </script>
  <script>
    require({
        paths: {
          moment: "/static/components/moment/min/moment.min.js"
        }
      }, ["moment"], function(moment){
      var date = $("footer .date"),
        m = moment(new Date(date.data('date'))),
        update = function(){ date.text(m.fromNow()); };
      setInterval(update, 61*1000);
      update();
      var w = $(window).scroll(function(event){
        $("body").toggleClass("scrolled", w.scrollTop() > 0);
      });
    });
  </script>
  <!--NEW RELIC Stop Perf Measurement-->
  
  <!--NEW RELIC End-->
</body>
</html>